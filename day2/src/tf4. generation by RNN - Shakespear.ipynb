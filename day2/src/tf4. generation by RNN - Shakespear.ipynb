{
 "cells": [
  {
   "cell_type": "markdown",
   "metadata": {
    "id": "t09eeeR5prIJ"
   },
   "source": [
    "##### Copyright 2019 The TensorFlow Authors."
   ]
  },
  {
   "cell_type": "code",
   "execution_count": 1,
   "metadata": {
    "cellView": "form",
    "execution": {
     "iopub.execute_input": "2020-09-23T07:31:41.148735Z",
     "iopub.status.busy": "2020-09-23T07:31:41.147717Z",
     "iopub.status.idle": "2020-09-23T07:31:41.149944Z",
     "shell.execute_reply": "2020-09-23T07:31:41.150484Z"
    },
    "id": "GCCk8_dHpuNf"
   },
   "outputs": [],
   "source": [
    "#@title Licensed under the Apache License, Version 2.0 (the \"License\");\n",
    "# you may not use this file except in compliance with the License.\n",
    "# You may obtain a copy of the License at\n",
    "#\n",
    "# https://www.apache.org/licenses/LICENSE-2.0\n",
    "#\n",
    "# Unless required by applicable law or agreed to in writing, software\n",
    "# distributed under the License is distributed on an \"AS IS\" BASIS,\n",
    "# WITHOUT WARRANTIES OR CONDITIONS OF ANY KIND, either express or implied.\n",
    "# See the License for the specific language governing permissions and\n",
    "# limitations under the License."
   ]
  },
  {
   "cell_type": "markdown",
   "metadata": {
    "id": "hcD2nPQvPOFM"
   },
   "source": [
    "# 순환 신경망을 활용한 문자열 생성\n",
    "\n",
    "<table class=\"tfo-notebook-buttons\" align=\"left\">\n",
    "  <td>\n",
    "    <a target=\"_blank\" href=\"https://www.tensorflow.org/tutorials/text/text_generation.ipynb\">\n",
    "    <img src=\"https://www.tensorflow.org/images/tf_logo_32px.png\" />\n",
    "    TensorFlow.org에서 보기</a>\n",
    "  </td>\n",
    "  <td>\n",
    "    <a target=\"_blank\" href=\"https://colab.research.google.com/github/tensorflow/docs-l10n/blob/master/site/ko/tutorials/text/text_generation.ipynb\">\n",
    "    <img src=\"https://www.tensorflow.org/images/colab_logo_32px.png\" />\n",
    "    구글 코랩(Colab)에서 실행하기</a>\n",
    "  </td>\n",
    "  <td>\n",
    "    <a target=\"_blank\" href=\"https://github.com/tensorflow/docs-l10n/blob/master/site/ko/tutorials/text/text_generation.ipynb\">\n",
    "    <img src=\"https://www.tensorflow.org/images/GitHub-Mark-32px.png\" />\n",
    "    깃허브(GitHub) 소스 보기</a>\n",
    "  </td>\n",
    "  <td>\n",
    "    <a href=\"https://storage.googleapis.com/tensorflow_docs/docs-l10n/site/ko/tutorials/text/text_generation.ipynb\"><img src=\"https://www.tensorflow.org/images/download_logo_32px.png\" />Download notebook</a>\n",
    "  </td>\n",
    "</table>"
   ]
  },
  {
   "cell_type": "markdown",
   "metadata": {
    "id": "tfiUl2tcqKnP"
   },
   "source": [
    "Note: 이 문서는 텐서플로 커뮤니티에서 번역했습니다. 커뮤니티 번역 활동의 특성상 정확한 번역과 최신 내용을 반영하기 위해 노력함에도\n",
    "불구하고 [공식 영문 문서](https://www.tensorflow.org/?hl=en)의 내용과 일치하지 않을 수 있습니다.\n",
    "이 번역에 개선할 부분이 있다면\n",
    "[tensorflow/docs-l10n](https://github.com/tensorflow/docs-l10n/) 깃헙 저장소로 풀 리퀘스트를 보내주시기 바랍니다.\n",
    "문서 번역이나 리뷰에 참여하려면\n",
    "[docs-ko@tensorflow.org](https://groups.google.com/a/tensorflow.org/forum/#!forum/docs-ko)로\n",
    "메일을 보내주시기 바랍니다."
   ]
  },
  {
   "cell_type": "markdown",
   "metadata": {
    "id": "BwpJ5IffzRG6"
   },
   "source": [
    "이 튜토리얼에서는 문자 기반 순환 신경망(RNN, Recurrent Neural Network)을 사용하여 어떻게 텍스트를 생성하는지 설명합니다. Andrej Karpathy의 [순환 신경망의 뛰어난 효율](http://karpathy.github.io/2015/05/21/rnn-effectiveness/)에서 가져온 셰익스피어 데이터셋으로 작업할 것입니다. 이 데이터 셋에서 문자 시퀀스 (\"Shakespear\")가 주어지면, 시퀀스의 다음 문자(\"e\")를 예측하는 모델을 훈련합니다. 모델을 반복하여 호출하면 더 긴 텍스트 시퀀스 생성이 가능합니다.\n",
    "\n",
    "Note: 이 노트북을 더 빠르게 실행하기 위해 GPU 가속을 활성화합니다. 코랩(Colab)에서: Runtime > Change runtime type > Hardware acclerator > GPU* 탭을 선택합니다. 로컬에서 실행하려면 TensorFlow 버전이 1.11 이상이어야 합니다.\n",
    "\n",
    "이 튜토리얼은 [tf.keras](https://www.tensorflow.org/programmers_guide/keras)와 [즉시 실행(eager execution)](https://www.tensorflow.org/programmers_guide/eager)을 활용하여 구현된 실행 가능한 코드가 포함되어 있습니다. 다음은 이 튜토리얼의 30번의 에포크(Epoch)로 훈련된 모델에서 \"Q\" 문자열로 시작될 때의 샘플 출력입니다.\n",
    "\n",
    "<pre>\n",
    "QUEENE:\n",
    "I had thought thou hadst a Roman; for the oracle,\n",
    "Thus by All bids the man against the word,\n",
    "Which are so weak of care, by old care done;\n",
    "Your children were in your holy love,\n",
    "And the precipitation through the bleeding throne.\n",
    "\n",
    "BISHOP OF ELY:\n",
    "Marry, and will, my lord, to weep in such a one were prettiest;\n",
    "Yet now I was adopted heir\n",
    "Of the world's lamentable day,\n",
    "To watch the next way with his father with his face?\n",
    "\n",
    "ESCALUS:\n",
    "The cause why then we are all resolved more sons.\n",
    "\n",
    "VOLUMNIA:\n",
    "O, no, no, no, no, no, no, no, no, no, no, no, no, no, no, no, no, no, no, no, no, it is no sin it should be dead,\n",
    "And love and pale as any will to that word.\n",
    "\n",
    "QUEEN ELIZABETH:\n",
    "But how long have I heard the soul for this world,\n",
    "And show his hands of life be proved to stand.\n",
    "\n",
    "PETRUCHIO:\n",
    "I say he look'd on, if I must be content\n",
    "To stay him from the fatal of our country's bliss.\n",
    "His lordship pluck'd from this sentence then for prey,\n",
    "And then let us twain, being the moon,\n",
    "were she such a case as fills m\n",
    "</pre>\n",
    "\n",
    "문장 중 일부는 문법적으로 맞지만 대부분 자연스럽지 않습니다. 이 모델은 단어의 의미를 학습하지는 않았지만, 고려해야 할 점으로:\n",
    "\n",
    "* 모델은 문자 기반입니다. 훈련이 시작되었을 때, 이 모델은 영어 단어의 철자를 모르거나 심지어 텍스트의 단위가 단어라는 것도 모릅니다.\n",
    "\n",
    "* 출력의 구조는 대본과 유사합니다. 즉, 텍스트 블록은 대개 화자의 이름으로 시작하고 이 이름들은 모든 데이터셋에서 대문자로 씌여 있습니다.\n",
    "\n",
    "* 아래에 설명된 것처럼 이 모델은 작은 텍스트 배치(각 100자)로 훈련되었으며 논리적인 구조를 가진 더 긴 텍스트 시퀀스를 생성할 수 있습니다."
   ]
  },
  {
   "cell_type": "markdown",
   "metadata": {
    "id": "srXC6pLGLwS6"
   },
   "source": [
    "## 설정"
   ]
  },
  {
   "cell_type": "markdown",
   "metadata": {
    "id": "WGyKZj3bzf9p"
   },
   "source": [
    "### 텐서플로와 다른 라이브러리 임포트"
   ]
  },
  {
   "cell_type": "code",
   "execution_count": 2,
   "metadata": {
    "execution": {
     "iopub.execute_input": "2020-09-23T07:31:41.158802Z",
     "iopub.status.busy": "2020-09-23T07:31:41.155522Z",
     "iopub.status.idle": "2020-09-23T07:32:11.244078Z",
     "shell.execute_reply": "2020-09-23T07:32:11.243359Z"
    },
    "id": "yG_n40gFzf9s"
   },
   "outputs": [],
   "source": [
    "import tensorflow as tf\n",
    "\n",
    "import numpy as np\n",
    "import os\n",
    "import time"
   ]
  },
  {
   "cell_type": "markdown",
   "metadata": {
    "id": "EHDoRoc5PKWz"
   },
   "source": [
    "### 셰익스피어 데이터셋 다운로드\n",
    "\n",
    "다음 코드를 실행하여 데이터를 불러오세요."
   ]
  },
  {
   "cell_type": "code",
   "execution_count": 3,
   "metadata": {
    "execution": {
     "iopub.execute_input": "2020-09-23T07:32:11.248797Z",
     "iopub.status.busy": "2020-09-23T07:32:11.248145Z",
     "iopub.status.idle": "2020-09-23T07:32:11.433942Z",
     "shell.execute_reply": "2020-09-23T07:32:11.433370Z"
    },
    "id": "pD_55cOxLkAb"
   },
   "outputs": [],
   "source": [
    "path_to_file = tf.keras.utils.get_file('shakespeare.txt', 'https://storage.googleapis.com/download.tensorflow.org/data/shakespeare.txt')"
   ]
  },
  {
   "cell_type": "markdown",
   "metadata": {
    "id": "UHjdCjDuSvX_"
   },
   "source": [
    "### 데이터 읽기\n",
    "\n",
    "먼저, 텍스트를 살펴봅시다:"
   ]
  },
  {
   "cell_type": "code",
   "execution_count": 4,
   "metadata": {
    "execution": {
     "iopub.execute_input": "2020-09-23T07:32:11.438778Z",
     "iopub.status.busy": "2020-09-23T07:32:11.438090Z",
     "iopub.status.idle": "2020-09-23T07:32:11.443010Z",
     "shell.execute_reply": "2020-09-23T07:32:11.442488Z"
    },
    "id": "aavnuByVymwK"
   },
   "outputs": [
    {
     "name": "stdout",
     "output_type": "stream",
     "text": [
      "텍스트의 길이: 1115394자\n"
     ]
    }
   ],
   "source": [
    "# 읽은 다음 파이썬 2와 호환되도록 디코딩합니다.\n",
    "text = open(path_to_file, 'rb').read().decode(encoding='utf-8')\n",
    "# 텍스트의 길이는 그 안에 있는 문자의 수입니다.\n",
    "print ('텍스트의 길이: {}자'.format(len(text)))"
   ]
  },
  {
   "cell_type": "code",
   "execution_count": 5,
   "metadata": {
    "execution": {
     "iopub.execute_input": "2020-09-23T07:32:11.446981Z",
     "iopub.status.busy": "2020-09-23T07:32:11.446295Z",
     "iopub.status.idle": "2020-09-23T07:32:11.449297Z",
     "shell.execute_reply": "2020-09-23T07:32:11.448791Z"
    },
    "id": "Duhg9NrUymwO"
   },
   "outputs": [
    {
     "name": "stdout",
     "output_type": "stream",
     "text": [
      "First Citizen:\n",
      "Before we proceed any further, hear me speak.\n",
      "\n",
      "All:\n",
      "Speak, speak.\n",
      "\n",
      "First Citizen:\n",
      "You are all resolved rather to die than to famish?\n",
      "\n",
      "All:\n",
      "Resolved. resolved.\n",
      "\n",
      "First Citizen:\n",
      "First, you know Caius Marcius is chief enemy to the people.\n",
      "\n"
     ]
    }
   ],
   "source": [
    "# 텍스트의 처음 250자를 살펴봅니다\n",
    "print(text[:250])"
   ]
  },
  {
   "cell_type": "code",
   "execution_count": 6,
   "metadata": {
    "execution": {
     "iopub.execute_input": "2020-09-23T07:32:11.466368Z",
     "iopub.status.busy": "2020-09-23T07:32:11.465700Z",
     "iopub.status.idle": "2020-09-23T07:32:11.468637Z",
     "shell.execute_reply": "2020-09-23T07:32:11.468118Z"
    },
    "id": "IlCgQBRVymwR"
   },
   "outputs": [
    {
     "name": "stdout",
     "output_type": "stream",
     "text": [
      "고유 문자수 65개\n"
     ]
    }
   ],
   "source": [
    "# 파일의 고유 문자수를 출력합니다.\n",
    "vocab = sorted(set(text))\n",
    "print ('고유 문자수 {}개'.format(len(vocab)))"
   ]
  },
  {
   "cell_type": "markdown",
   "metadata": {
    "id": "rNnrKn_lL-IJ"
   },
   "source": [
    "## 텍스트 처리"
   ]
  },
  {
   "cell_type": "markdown",
   "metadata": {
    "id": "LFjSVAlWzf-N"
   },
   "source": [
    "### 텍스트 벡터화\n",
    "\n",
    "훈련 전, 문자들을 수치화할 필요가 있습니다. 두 개의 조회 테이블(lookup table)을 만듭니다: 하나는 문자를 숫자에 매핑하고 다른 하나는 숫자를 문자에 매핑하는 것입니다."
   ]
  },
  {
   "cell_type": "code",
   "execution_count": 7,
   "metadata": {
    "execution": {
     "iopub.execute_input": "2020-09-23T07:32:11.518634Z",
     "iopub.status.busy": "2020-09-23T07:32:11.492152Z",
     "iopub.status.idle": "2020-09-23T07:32:11.636544Z",
     "shell.execute_reply": "2020-09-23T07:32:11.637047Z"
    },
    "id": "IalZLbvOzf-F"
   },
   "outputs": [],
   "source": [
    "# 고유 문자에서 인덱스로 매핑 생성\n",
    "char2idx = {u:i for i, u in enumerate(vocab)}\n",
    "idx2char = np.array(vocab)\n",
    "\n",
    "text_as_int = np.array([char2idx[c] for c in text])"
   ]
  },
  {
   "cell_type": "markdown",
   "metadata": {
    "id": "tZfqhkYCymwX"
   },
   "source": [
    "이제 각 문자에 대한 정수 표현을 만들었습니다. 문자를 0번 인덱스부터 고유 문자 길이까지 매핑한 것을 기억합시다."
   ]
  },
  {
   "cell_type": "code",
   "execution_count": 8,
   "metadata": {
    "execution": {
     "iopub.execute_input": "2020-09-23T07:32:11.642361Z",
     "iopub.status.busy": "2020-09-23T07:32:11.641702Z",
     "iopub.status.idle": "2020-09-23T07:32:11.646584Z",
     "shell.execute_reply": "2020-09-23T07:32:11.646078Z"
    },
    "id": "FYyNlCNXymwY"
   },
   "outputs": [
    {
     "name": "stdout",
     "output_type": "stream",
     "text": [
      "{\n",
      "  '\\n':   0,\n",
      "  ' ' :   1,\n",
      "  '!' :   2,\n",
      "  '$' :   3,\n",
      "  '&' :   4,\n",
      "  \"'\" :   5,\n",
      "  ',' :   6,\n",
      "  '-' :   7,\n",
      "  '.' :   8,\n",
      "  '3' :   9,\n",
      "  ':' :  10,\n",
      "  ';' :  11,\n",
      "  '?' :  12,\n",
      "  'A' :  13,\n",
      "  'B' :  14,\n",
      "  'C' :  15,\n",
      "  'D' :  16,\n",
      "  'E' :  17,\n",
      "  'F' :  18,\n",
      "  'G' :  19,\n",
      "  ...\n",
      "}\n"
     ]
    }
   ],
   "source": [
    "print('{')\n",
    "for char,_ in zip(char2idx, range(20)):\n",
    "    print('  {:4s}: {:3d},'.format(repr(char), char2idx[char]))\n",
    "print('  ...\\n}')"
   ]
  },
  {
   "cell_type": "code",
   "execution_count": 9,
   "metadata": {
    "execution": {
     "iopub.execute_input": "2020-09-23T07:32:11.650728Z",
     "iopub.status.busy": "2020-09-23T07:32:11.650080Z",
     "iopub.status.idle": "2020-09-23T07:32:11.652840Z",
     "shell.execute_reply": "2020-09-23T07:32:11.652253Z"
    },
    "id": "l1VKcQHcymwb"
   },
   "outputs": [
    {
     "name": "stdout",
     "output_type": "stream",
     "text": [
      "'First Citizen' ---- 문자들이 다음의 정수로 매핑되었습니다 ---- > [18 47 56 57 58  1 15 47 58 47 64 43 52]\n"
     ]
    }
   ],
   "source": [
    "# 텍스트에서 처음 13개의 문자가 숫자로 어떻게 매핑되었는지를 보여줍니다\n",
    "print ('{} ---- 문자들이 다음의 정수로 매핑되었습니다 ---- > {}'.format(repr(text[:13]), text_as_int[:13]))"
   ]
  },
  {
   "cell_type": "markdown",
   "metadata": {
    "id": "bbmsf23Bymwe"
   },
   "source": [
    "### 예측 과정"
   ]
  },
  {
   "cell_type": "markdown",
   "metadata": {
    "id": "wssHQ1oGymwe"
   },
   "source": [
    "주어진 문자나 문자 시퀀스가 주어졌을 때, 다음 문자로 가장 가능성 있는 문자는 무엇일까요? 이는 모델을 훈련하여 수행할 작업입니다. 모델의 입력은 문자열 시퀀스가 될 것이고, 모델을 훈련시켜 출력을 예측합니다. 이 출력은 현재 타임 스텝(time step)의 다음 문자입니다.\n",
    "\n",
    "RNN은 이전에 본 요소에 의존하는 내부 상태를 유지하고 있으므로, 이 순간까지 계산된 모든 문자를 감안할 때, 다음 문자는 무엇일까요?"
   ]
  },
  {
   "cell_type": "markdown",
   "metadata": {
    "id": "hgsVvVxnymwf"
   },
   "source": [
    "### 훈련 샘플과 타깃 만들기\n",
    "\n",
    "다음으로 텍스트를 샘플 시퀀스로 나눕니다. 각 입력 시퀀스에는 텍스트에서 나온 `seq_length`개의 문자가 포함될 것입니다.\n",
    "\n",
    "각 입력 시퀀스에서, 해당 타깃은 한 문자를 오른쪽으로 이동한 것을 제외하고는 동일한 길이의 텍스트를 포함합니다.\n",
    "\n",
    "따라서 텍스트를`seq_length + 1`개의 청크(chunk)로 나눕니다. 예를 들어, `seq_length`는 4이고 텍스트를 \"Hello\"이라고 가정해 봅시다. 입력 시퀀스는 \"Hell\"이고 타깃 시퀀스는 \"ello\"가 됩니다.\n",
    "\n",
    "이렇게 하기 위해 먼저 `tf.data.Dataset.from_tensor_slices` 함수를 사용해 텍스트 벡터를 문자 인덱스의 스트림으로 변환합니다."
   ]
  },
  {
   "cell_type": "code",
   "execution_count": 10,
   "metadata": {
    "execution": {
     "iopub.execute_input": "2020-09-23T07:32:12.495728Z",
     "iopub.status.busy": "2020-09-23T07:32:12.494921Z",
     "iopub.status.idle": "2020-09-23T07:32:12.512136Z",
     "shell.execute_reply": "2020-09-23T07:32:12.511465Z"
    },
    "id": "0UHJDA39zf-O",
    "scrolled": true
   },
   "outputs": [
    {
     "name": "stdout",
     "output_type": "stream",
     "text": [
      "F\n",
      "i\n",
      "r\n",
      "s\n",
      "t\n"
     ]
    },
    {
     "name": "stderr",
     "output_type": "stream",
     "text": [
      "2021-09-09 22:37:27.832813: I tensorflow/core/platform/cpu_feature_guard.cc:142] This TensorFlow binary is optimized with oneAPI Deep Neural Network Library (oneDNN) to use the following CPU instructions in performance-critical operations:  AVX2 FMA\n",
      "To enable them in other operations, rebuild TensorFlow with the appropriate compiler flags.\n",
      "2021-09-09 22:37:31.287571: I tensorflow/core/common_runtime/gpu/gpu_device.cc:1510] Created device /job:localhost/replica:0/task:0/device:GPU:0 with 22318 MB memory:  -> device: 0, name: GeForce RTX 3090, pci bus id: 0000:01:00.0, compute capability: 8.6\n",
      "2021-09-09 22:37:31.289922: I tensorflow/core/common_runtime/gpu/gpu_device.cc:1510] Created device /job:localhost/replica:0/task:0/device:GPU:1 with 22318 MB memory:  -> device: 1, name: GeForce RTX 3090, pci bus id: 0000:23:00.0, compute capability: 8.6\n",
      "2021-09-09 22:37:31.292003: I tensorflow/core/common_runtime/gpu/gpu_device.cc:1510] Created device /job:localhost/replica:0/task:0/device:GPU:2 with 22318 MB memory:  -> device: 2, name: GeForce RTX 3090, pci bus id: 0000:41:00.0, compute capability: 8.6\n",
      "2021-09-09 22:37:31.294083: I tensorflow/core/common_runtime/gpu/gpu_device.cc:1510] Created device /job:localhost/replica:0/task:0/device:GPU:3 with 22318 MB memory:  -> device: 3, name: GeForce RTX 3090, pci bus id: 0000:61:00.0, compute capability: 8.6\n",
      "2021-09-09 22:37:31.296139: I tensorflow/core/common_runtime/gpu/gpu_device.cc:1510] Created device /job:localhost/replica:0/task:0/device:GPU:4 with 22318 MB memory:  -> device: 4, name: GeForce RTX 3090, pci bus id: 0000:81:00.0, compute capability: 8.6\n",
      "2021-09-09 22:37:31.298238: I tensorflow/core/common_runtime/gpu/gpu_device.cc:1510] Created device /job:localhost/replica:0/task:0/device:GPU:5 with 22318 MB memory:  -> device: 5, name: GeForce RTX 3090, pci bus id: 0000:a1:00.0, compute capability: 8.6\n",
      "2021-09-09 22:37:31.300273: I tensorflow/core/common_runtime/gpu/gpu_device.cc:1510] Created device /job:localhost/replica:0/task:0/device:GPU:6 with 22318 MB memory:  -> device: 6, name: GeForce RTX 3090, pci bus id: 0000:c1:00.0, compute capability: 8.6\n",
      "2021-09-09 22:37:31.302574: I tensorflow/core/common_runtime/gpu/gpu_device.cc:1510] Created device /job:localhost/replica:0/task:0/device:GPU:7 with 22318 MB memory:  -> device: 7, name: GeForce RTX 3090, pci bus id: 0000:e1:00.0, compute capability: 8.6\n"
     ]
    }
   ],
   "source": [
    "# 단일 입력에 대해 원하는 문장의 최대 길이\n",
    "seq_length = 100\n",
    "examples_per_epoch = len(text)//seq_length\n",
    "\n",
    "# 훈련 샘플/타깃 만들기\n",
    "char_dataset = tf.data.Dataset.from_tensor_slices(text_as_int)\n",
    "\n",
    "for i in char_dataset.take(5):\n",
    "  print(idx2char[i.numpy()])"
   ]
  },
  {
   "cell_type": "markdown",
   "metadata": {
    "id": "-ZSYAcQV8OGP"
   },
   "source": [
    "`batch` 메서드는 이 개별 문자들을 원하는 크기의 시퀀스로 쉽게 변환할 수 있습니다."
   ]
  },
  {
   "cell_type": "code",
   "execution_count": 11,
   "metadata": {
    "execution": {
     "iopub.execute_input": "2020-09-23T07:32:12.517406Z",
     "iopub.status.busy": "2020-09-23T07:32:12.516737Z",
     "iopub.status.idle": "2020-09-23T07:32:12.526247Z",
     "shell.execute_reply": "2020-09-23T07:32:12.525637Z"
    },
    "id": "l4hkDU3i7ozi"
   },
   "outputs": [
    {
     "name": "stdout",
     "output_type": "stream",
     "text": [
      "'First Citizen:\\nBefore we proceed any further, hear me speak.\\n\\nAll:\\nSpeak, speak.\\n\\nFirst Citizen:\\nYou '\n",
      "'are all resolved rather to die than to famish?\\n\\nAll:\\nResolved. resolved.\\n\\nFirst Citizen:\\nFirst, you k'\n",
      "\"now Caius Marcius is chief enemy to the people.\\n\\nAll:\\nWe know't, we know't.\\n\\nFirst Citizen:\\nLet us ki\"\n",
      "\"ll him, and we'll have corn at our own price.\\nIs't a verdict?\\n\\nAll:\\nNo more talking on't; let it be d\"\n",
      "'one: away, away!\\n\\nSecond Citizen:\\nOne word, good citizens.\\n\\nFirst Citizen:\\nWe are accounted poor citi'\n"
     ]
    }
   ],
   "source": [
    "sequences = char_dataset.batch(seq_length+1, drop_remainder=True)\n",
    "\n",
    "for item in sequences.take(5):\n",
    "  print(repr(''.join(idx2char[item.numpy()])))"
   ]
  },
  {
   "cell_type": "markdown",
   "metadata": {
    "id": "UbLcIPBj_mWZ"
   },
   "source": [
    "각 시퀀스에서, `map` 메서드를 사용해 각 배치에 간단한 함수를 적용하고 입력 텍스트와 타깃 텍스트를 복사 및 이동합니다:"
   ]
  },
  {
   "cell_type": "code",
   "execution_count": 12,
   "metadata": {
    "execution": {
     "iopub.execute_input": "2020-09-23T07:32:12.532986Z",
     "iopub.status.busy": "2020-09-23T07:32:12.532363Z",
     "iopub.status.idle": "2020-09-23T07:32:12.712658Z",
     "shell.execute_reply": "2020-09-23T07:32:12.711916Z"
    },
    "id": "9NGu-FkO_kYU"
   },
   "outputs": [],
   "source": [
    "def split_input_target(chunk):\n",
    "    input_text = chunk[:-1]\n",
    "    target_text = chunk[1:]\n",
    "    return input_text, target_text\n",
    "\n",
    "dataset = sequences.map(split_input_target)"
   ]
  },
  {
   "cell_type": "markdown",
   "metadata": {
    "id": "hiCopyGZymwi"
   },
   "source": [
    "첫 번째 샘플의 타깃 값을 출력합니다:"
   ]
  },
  {
   "cell_type": "code",
   "execution_count": 13,
   "metadata": {
    "execution": {
     "iopub.execute_input": "2020-09-23T07:32:12.718163Z",
     "iopub.status.busy": "2020-09-23T07:32:12.717460Z",
     "iopub.status.idle": "2020-09-23T07:32:12.736636Z",
     "shell.execute_reply": "2020-09-23T07:32:12.736012Z"
    },
    "id": "GNbw-iR0ymwj"
   },
   "outputs": [
    {
     "name": "stdout",
     "output_type": "stream",
     "text": [
      "입력 데이터:  'First Citizen:\\nBefore we proceed any further, hear me speak.\\n\\nAll:\\nSpeak, speak.\\n\\nFirst Citizen:\\nYou'\n",
      "타깃 데이터:  'irst Citizen:\\nBefore we proceed any further, hear me speak.\\n\\nAll:\\nSpeak, speak.\\n\\nFirst Citizen:\\nYou '\n"
     ]
    },
    {
     "name": "stderr",
     "output_type": "stream",
     "text": [
      "2021-09-09 22:37:31.635635: I tensorflow/compiler/mlir/mlir_graph_optimization_pass.cc:185] None of the MLIR Optimization Passes are enabled (registered 2)\n"
     ]
    }
   ],
   "source": [
    "for input_example, target_example in  dataset.take(1):\n",
    "  print ('입력 데이터: ', repr(''.join(idx2char[input_example.numpy()])))\n",
    "  print ('타깃 데이터: ', repr(''.join(idx2char[target_example.numpy()])))"
   ]
  },
  {
   "cell_type": "markdown",
   "metadata": {
    "id": "_33OHL3b84i0"
   },
   "source": [
    "이 벡터의 각 인덱스는 하나의 타임 스텝(time step)으로 처리됩니다. 타임 스텝 0의 입력으로 모델은 \"F\"의 인덱스를 받고 다음 문자로 \"i\"의 인덱스를 예측합니다. 다음 타임 스텝에서도 같은 일을 하지만 RNN은 현재 입력 문자 외에 이전 타임 스텝의 컨텍스트**(context)**를 고려합니다."
   ]
  },
  {
   "cell_type": "code",
   "execution_count": 14,
   "metadata": {
    "execution": {
     "iopub.execute_input": "2020-09-23T07:32:12.743536Z",
     "iopub.status.busy": "2020-09-23T07:32:12.742134Z",
     "iopub.status.idle": "2020-09-23T07:32:12.749230Z",
     "shell.execute_reply": "2020-09-23T07:32:12.748703Z"
    },
    "id": "0eBu9WZG84i0"
   },
   "outputs": [
    {
     "name": "stdout",
     "output_type": "stream",
     "text": [
      "   0단계\n",
      "  입력: 18 ('F')\n",
      "  예상 출력: 47 ('i')\n",
      "   1단계\n",
      "  입력: 47 ('i')\n",
      "  예상 출력: 56 ('r')\n",
      "   2단계\n",
      "  입력: 56 ('r')\n",
      "  예상 출력: 57 ('s')\n",
      "   3단계\n",
      "  입력: 57 ('s')\n",
      "  예상 출력: 58 ('t')\n",
      "   4단계\n",
      "  입력: 58 ('t')\n",
      "  예상 출력: 1 (' ')\n"
     ]
    }
   ],
   "source": [
    "for i, (input_idx, target_idx) in enumerate(zip(input_example[:5], target_example[:5])):\n",
    "    print(\"{:4d}단계\".format(i))\n",
    "    print(\"  입력: {} ({:s})\".format(input_idx, repr(idx2char[input_idx])))\n",
    "    print(\"  예상 출력: {} ({:s})\".format(target_idx, repr(idx2char[target_idx])))"
   ]
  },
  {
   "cell_type": "markdown",
   "metadata": {
    "id": "MJdfPmdqzf-R"
   },
   "source": [
    "### 훈련 배치 생성\n",
    "\n",
    "텍스트를 다루기 쉬운 시퀀스로 분리하기 위해 `tf.data`를 사용했습니다. 그러나 이 데이터를 모델에 넣기 전에 데이터를 섞은 후 배치를 만들어야 합니다."
   ]
  },
  {
   "cell_type": "code",
   "execution_count": 15,
   "metadata": {
    "execution": {
     "iopub.execute_input": "2020-09-23T07:32:12.753916Z",
     "iopub.status.busy": "2020-09-23T07:32:12.753256Z",
     "iopub.status.idle": "2020-09-23T07:32:12.764252Z",
     "shell.execute_reply": "2020-09-23T07:32:12.764769Z"
    },
    "id": "p2pGotuNzf-S"
   },
   "outputs": [
    {
     "data": {
      "text/plain": [
       "<BatchDataset shapes: ((64, 100), (64, 100)), types: (tf.int64, tf.int64)>"
      ]
     },
     "execution_count": 15,
     "metadata": {},
     "output_type": "execute_result"
    }
   ],
   "source": [
    "# 배치 크기\n",
    "BATCH_SIZE = 64\n",
    "\n",
    "# 데이터셋을 섞을 버퍼 크기\n",
    "# (TF 데이터는 무한한 시퀀스와 함께 작동이 가능하도록 설계되었으며,\n",
    "# 따라서 전체 시퀀스를 메모리에 섞지 않습니다. 대신에,\n",
    "# 요소를 섞는 버퍼를 유지합니다).\n",
    "BUFFER_SIZE = 10000\n",
    "\n",
    "dataset = dataset.shuffle(BUFFER_SIZE).batch(BATCH_SIZE, drop_remainder=True)\n",
    "\n",
    "dataset"
   ]
  },
  {
   "cell_type": "markdown",
   "metadata": {
    "id": "r6oUuElIMgVx"
   },
   "source": [
    "## 모델 설계"
   ]
  },
  {
   "cell_type": "markdown",
   "metadata": {
    "id": "m8gPwEjRzf-Z"
   },
   "source": [
    "모델을 정의하려면 `tf.keras.Sequential`을 사용합니다. 이 간단한 예제에서는 3개의 층을 사용하여 모델을 정의합니다:\n",
    "\n",
    "* `tf.keras.layers.Embedding` : 입력층. `embedding_dim` 차원 벡터에 각 문자의 정수 코드를 매핑하는 훈련 가능한 검색 테이블.\n",
    "* `tf.keras.layers.GRU` : 크기가 `units = rnn_units`인 RNN의 유형(여기서 LSTM층을 사용할 수도 있습니다.)\n",
    "* `tf.keras.layers.Dense` : 크기가 `vocab_size`인 출력을 생성하는 출력층."
   ]
  },
  {
   "cell_type": "code",
   "execution_count": 16,
   "metadata": {
    "execution": {
     "iopub.execute_input": "2020-09-23T07:32:12.769119Z",
     "iopub.status.busy": "2020-09-23T07:32:12.768462Z",
     "iopub.status.idle": "2020-09-23T07:32:12.770927Z",
     "shell.execute_reply": "2020-09-23T07:32:12.770338Z"
    },
    "id": "zHT8cLh7EAsg"
   },
   "outputs": [
    {
     "name": "stdout",
     "output_type": "stream",
     "text": [
      "65\n"
     ]
    }
   ],
   "source": [
    "# 문자로 된 어휘 사전의 크기\n",
    "vocab_size = len(vocab)\n",
    "print(vocab_size)\n",
    "\n",
    "# 임베딩 차원\n",
    "embedding_dim = 256\n",
    "\n",
    "# RNN 유닛(unit) 개수\n",
    "rnn_units = 1024"
   ]
  },
  {
   "cell_type": "code",
   "execution_count": 17,
   "metadata": {
    "execution": {
     "iopub.execute_input": "2020-09-23T07:32:12.775931Z",
     "iopub.status.busy": "2020-09-23T07:32:12.775284Z",
     "iopub.status.idle": "2020-09-23T07:32:12.777211Z",
     "shell.execute_reply": "2020-09-23T07:32:12.777637Z"
    },
    "id": "MtCrdfzEI2N0"
   },
   "outputs": [],
   "source": [
    "def build_model(vocab_size, embedding_dim, rnn_units, batch_size):\n",
    "  model = tf.keras.Sequential([\n",
    "    tf.keras.layers.Embedding(vocab_size, embedding_dim,\n",
    "                              batch_input_shape=[batch_size, None]),\n",
    "    tf.keras.layers.LSTM(rnn_units,\n",
    "                        return_sequences=True,\n",
    "                        stateful=True,\n",
    "                        recurrent_initializer='glorot_uniform'),\n",
    "    tf.keras.layers.Dense(vocab_size)\n",
    "  ])\n",
    "  return model"
   ]
  },
  {
   "cell_type": "code",
   "execution_count": 18,
   "metadata": {
    "execution": {
     "iopub.execute_input": "2020-09-23T07:32:12.792396Z",
     "iopub.status.busy": "2020-09-23T07:32:12.791700Z",
     "iopub.status.idle": "2020-09-23T07:32:13.085269Z",
     "shell.execute_reply": "2020-09-23T07:32:13.084646Z"
    },
    "id": "wwsrpOik5zhv"
   },
   "outputs": [],
   "source": [
    "model = build_model(\n",
    "  vocab_size = len(vocab),\n",
    "  embedding_dim=embedding_dim,\n",
    "  rnn_units=rnn_units,\n",
    "  batch_size=BATCH_SIZE)"
   ]
  },
  {
   "cell_type": "markdown",
   "metadata": {
    "id": "RkA5upJIJ7W7"
   },
   "source": [
    "각 문자에 대해 모델은 임베딩을 검색하고, 임베딩을 입력으로 하여 GRU를 1개의 타임 스텝으로 실행하고, 완전연결층을 적용하여 다음 문자의 로그 가능도(log-likelihood)를 예측하는 로짓을 생성합니다:\n",
    "\n",
    "![모델을 통과하는 데이터의 사진](https://www.tensorflow.org/text/tutorials/images/text_generation_training.png)"
   ]
  },
  {
   "cell_type": "markdown",
   "metadata": {
    "id": "-ubPo0_9Prjb"
   },
   "source": [
    "## 모델 사용\n",
    "\n",
    "이제 모델을 실행하여 원하는대로 동작하는지 확인합니다.\n",
    "\n",
    "먼저 출력의 형태를 확인합니다:"
   ]
  },
  {
   "cell_type": "code",
   "execution_count": 19,
   "metadata": {
    "execution": {
     "iopub.execute_input": "2020-09-23T07:32:13.090756Z",
     "iopub.status.busy": "2020-09-23T07:32:13.090020Z",
     "iopub.status.idle": "2020-09-23T07:32:15.377164Z",
     "shell.execute_reply": "2020-09-23T07:32:15.376535Z"
    },
    "id": "C-_70kKAPrPU"
   },
   "outputs": [
    {
     "name": "stderr",
     "output_type": "stream",
     "text": [
      "2021-09-09 22:37:33.695478: I tensorflow/stream_executor/cuda/cuda_dnn.cc:369] Loaded cuDNN version 8204\n"
     ]
    },
    {
     "name": "stdout",
     "output_type": "stream",
     "text": [
      "(64, 100, 65) # (배치 크기, 시퀀스 길이, 어휘 사전 크기)\n"
     ]
    },
    {
     "name": "stderr",
     "output_type": "stream",
     "text": [
      "2021-09-09 22:37:34.352836: I tensorflow/stream_executor/cuda/cuda_blas.cc:1760] TensorFloat-32 will be used for the matrix multiplication. This will only be logged once.\n"
     ]
    }
   ],
   "source": [
    "for input_example_batch, target_example_batch in dataset.take(1):\n",
    "  example_batch_predictions = model(input_example_batch)\n",
    "  print(example_batch_predictions.shape, \"# (배치 크기, 시퀀스 길이, 어휘 사전 크기)\")"
   ]
  },
  {
   "cell_type": "markdown",
   "metadata": {
    "id": "Q6NzLBi4VM4o"
   },
   "source": [
    "위 예제에서 입력의 시퀀스 길이는 100이지만 모델은 임의 길이의 입력에서 실행될 수 있습니다."
   ]
  },
  {
   "cell_type": "code",
   "execution_count": 20,
   "metadata": {
    "execution": {
     "iopub.execute_input": "2020-09-23T07:32:15.382951Z",
     "iopub.status.busy": "2020-09-23T07:32:15.382275Z",
     "iopub.status.idle": "2020-09-23T07:32:15.386178Z",
     "shell.execute_reply": "2020-09-23T07:32:15.385664Z"
    },
    "id": "vPGmAAXmVLGC"
   },
   "outputs": [
    {
     "name": "stdout",
     "output_type": "stream",
     "text": [
      "Model: \"sequential\"\n",
      "_________________________________________________________________\n",
      "Layer (type)                 Output Shape              Param #   \n",
      "=================================================================\n",
      "embedding (Embedding)        (64, None, 256)           16640     \n",
      "_________________________________________________________________\n",
      "lstm (LSTM)                  (64, None, 1024)          5246976   \n",
      "_________________________________________________________________\n",
      "dense (Dense)                (64, None, 65)            66625     \n",
      "=================================================================\n",
      "Total params: 5,330,241\n",
      "Trainable params: 5,330,241\n",
      "Non-trainable params: 0\n",
      "_________________________________________________________________\n"
     ]
    }
   ],
   "source": [
    "model.summary()"
   ]
  },
  {
   "cell_type": "markdown",
   "metadata": {
    "id": "uwv0gEkURfx1"
   },
   "source": [
    "모델로부터 실제 예측을 얻으려면 출력 배열에서 샘플링하여 실제 문자 인덱스를 얻어야 합니다. 이 분포는 문자 어휘에 대한 로짓에 의해 정의됩니다.\n",
    "\n",
    "Note: 배열에 argmax를 취하면 모델이 쉽게 루프에 걸릴 수 있으므로 배열에서 샘플링하는 것이 중요합니다.\n",
    "\n",
    "배치의 첫 번째 샘플링을 시도해 봅시다:"
   ]
  },
  {
   "cell_type": "code",
   "execution_count": 21,
   "metadata": {
    "execution": {
     "iopub.execute_input": "2020-09-23T07:32:15.390903Z",
     "iopub.status.busy": "2020-09-23T07:32:15.390246Z",
     "iopub.status.idle": "2020-09-23T07:32:15.393583Z",
     "shell.execute_reply": "2020-09-23T07:32:15.393009Z"
    },
    "id": "4V4MfFg0RQJg"
   },
   "outputs": [],
   "source": [
    "sampled_indices = tf.random.categorical(example_batch_predictions[0], num_samples=1)\n",
    "sampled_indices = tf.squeeze(sampled_indices,axis=-1).numpy()"
   ]
  },
  {
   "cell_type": "markdown",
   "metadata": {
    "id": "QM1Vbxs_URw5"
   },
   "source": [
    "이렇게 하면 각 타임 스텝(time step)에서 다음 문자 인덱스에 대한 예측을 제공합니다:"
   ]
  },
  {
   "cell_type": "code",
   "execution_count": 22,
   "metadata": {
    "execution": {
     "iopub.execute_input": "2020-09-23T07:32:15.398157Z",
     "iopub.status.busy": "2020-09-23T07:32:15.397488Z",
     "iopub.status.idle": "2020-09-23T07:32:15.400654Z",
     "shell.execute_reply": "2020-09-23T07:32:15.400148Z"
    },
    "id": "YqFMUQc_UFgM"
   },
   "outputs": [
    {
     "data": {
      "text/plain": [
       "array([33, 44,  6, 43, 38,  2,  4, 60,  4,  1, 25, 37, 13, 48, 56, 41, 30,\n",
       "       47,  1, 54, 37, 22, 19, 39, 13, 35, 33, 30, 26, 20, 10,  1, 62, 45,\n",
       "       33, 33, 24, 21, 55, 51,  7, 58, 49, 37,  3, 14, 52, 18, 36, 53, 45,\n",
       "        5, 42,  6, 44, 25, 56, 53, 22, 57, 32, 54, 52, 28,  2, 17, 34, 10,\n",
       "       41,  1, 64, 61, 27, 19, 27, 25,  4, 37, 41, 29, 58, 60, 26, 46, 38,\n",
       "       50,  9, 21, 54, 44, 15, 33,  9, 47, 53,  5, 59,  2, 35, 33])"
      ]
     },
     "execution_count": 22,
     "metadata": {},
     "output_type": "execute_result"
    }
   ],
   "source": [
    "sampled_indices"
   ]
  },
  {
   "cell_type": "markdown",
   "metadata": {
    "id": "LfLtsP3mUhCG"
   },
   "source": [
    "훈련되지 않은 모델에 의해 예측된 텍스트를 보기 위해 복호화합니다."
   ]
  },
  {
   "cell_type": "code",
   "execution_count": 23,
   "metadata": {
    "execution": {
     "iopub.execute_input": "2020-09-23T07:32:15.406109Z",
     "iopub.status.busy": "2020-09-23T07:32:15.405457Z",
     "iopub.status.idle": "2020-09-23T07:32:15.408179Z",
     "shell.execute_reply": "2020-09-23T07:32:15.408589Z"
    },
    "id": "xWcFwPwLSo05"
   },
   "outputs": [
    {
     "name": "stdout",
     "output_type": "stream",
     "text": [
      "입력: \n",
      " 'nd the demesnes that there adjacent lie,\\nThat in thy likeness thou appear to us!\\n\\nBENVOLIO:\\nAnd if h'\n",
      "\n",
      "예측된 다음 문자: \n",
      " \"Uf,eZ!&v& MYAjrcRi pYJGaAWURNH: xgUULIqm-tkY$BnFXog'd,fMroJsTpnP!EV:c zwOGOM&YcQtvNhZl3IpfCU3io'u!WU\"\n"
     ]
    }
   ],
   "source": [
    "print(\"입력: \\n\", repr(\"\".join(idx2char[input_example_batch[0]])))\n",
    "print()\n",
    "print(\"예측된 다음 문자: \\n\", repr(\"\".join(idx2char[sampled_indices ])))"
   ]
  },
  {
   "cell_type": "markdown",
   "metadata": {
    "id": "LJL0Q0YPY6Ee"
   },
   "source": [
    "## 모델 훈련"
   ]
  },
  {
   "cell_type": "markdown",
   "metadata": {
    "id": "YCbHQHiaa4Ic"
   },
   "source": [
    "이 문제는 표준 분류 문제로 취급될 수 있습니다. 이전 RNN 상태와 이번 타임 스텝(time step)의 입력으로 다음 문자의 클래스를 예측합니다."
   ]
  },
  {
   "cell_type": "markdown",
   "metadata": {
    "id": "trpqTWyvk0nr"
   },
   "source": [
    "### 옵티마이저 붙이기, 그리고 손실 함수"
   ]
  },
  {
   "cell_type": "markdown",
   "metadata": {
    "id": "UAjbjY03eiQ4"
   },
   "source": [
    "표준 `tf.keras.losses.sparse_softmax_crossentropy` 손실 함수는 이전 차원의 예측과 교차 적용되기 때문에 이 문제에 적합합니다.\n",
    "\n",
    "이 모델은 로짓을 반환하기 때문에 `from_logits` 플래그를 설정해야 합니다."
   ]
  },
  {
   "cell_type": "code",
   "execution_count": 24,
   "metadata": {
    "execution": {
     "iopub.execute_input": "2020-09-23T07:32:15.414248Z",
     "iopub.status.busy": "2020-09-23T07:32:15.413442Z",
     "iopub.status.idle": "2020-09-23T07:32:15.420088Z",
     "shell.execute_reply": "2020-09-23T07:32:15.420503Z"
    },
    "id": "4HrXTACTdzY-"
   },
   "outputs": [
    {
     "name": "stdout",
     "output_type": "stream",
     "text": [
      "예측 배열 크기(shape):  (64, 100, 65)  # (배치 크기, 시퀀스 길이, 어휘 사전 크기\n",
      "스칼라 손실:           4.1749043\n"
     ]
    }
   ],
   "source": [
    "def loss(labels, logits):\n",
    "  return tf.keras.losses.sparse_categorical_crossentropy(labels, logits, from_logits=True)\n",
    "\n",
    "example_batch_loss  = loss(target_example_batch, example_batch_predictions)\n",
    "print(\"예측 배열 크기(shape): \", example_batch_predictions.shape, \" # (배치 크기, 시퀀스 길이, 어휘 사전 크기\")\n",
    "print(\"스칼라 손실:          \", example_batch_loss.numpy().mean())"
   ]
  },
  {
   "cell_type": "markdown",
   "metadata": {
    "id": "jeOXriLcymww"
   },
   "source": [
    "`tf.keras.Model.compile` 메서드를 사용하여 훈련 절차를 설정합니다. 기본 매개변수의 `tf.keras.optimizers.Adam`과 손실 함수를 사용합니다."
   ]
  },
  {
   "cell_type": "code",
   "execution_count": 25,
   "metadata": {
    "execution": {
     "iopub.execute_input": "2020-09-23T07:32:15.427387Z",
     "iopub.status.busy": "2020-09-23T07:32:15.426749Z",
     "iopub.status.idle": "2020-09-23T07:32:15.450822Z",
     "shell.execute_reply": "2020-09-23T07:32:15.451265Z"
    },
    "id": "DDl1_Een6rL0"
   },
   "outputs": [],
   "source": [
    "model.compile(optimizer='adam', loss=loss)"
   ]
  },
  {
   "cell_type": "markdown",
   "metadata": {
    "id": "ieSJdchZggUj"
   },
   "source": [
    "### 체크포인트 구성"
   ]
  },
  {
   "cell_type": "markdown",
   "metadata": {
    "id": "C6XBUUavgF56"
   },
   "source": [
    "`tf.keras.callbacks.ModelCheckpoint`를 사용하여 훈련 중 체크포인트(checkpoint)가 저장되도록 합니다:"
   ]
  },
  {
   "cell_type": "code",
   "execution_count": 26,
   "metadata": {
    "execution": {
     "iopub.execute_input": "2020-09-23T07:32:15.456511Z",
     "iopub.status.busy": "2020-09-23T07:32:15.455787Z",
     "iopub.status.idle": "2020-09-23T07:32:15.458391Z",
     "shell.execute_reply": "2020-09-23T07:32:15.457806Z"
    },
    "id": "W6fWTriUZP-n"
   },
   "outputs": [],
   "source": [
    "# 체크포인트가 저장될 디렉토리\n",
    "checkpoint_dir = './training_checkpoints'\n",
    "# 체크포인트 파일 이름\n",
    "checkpoint_prefix = os.path.join(checkpoint_dir, \"ckpt_{epoch}\")\n",
    "\n",
    "checkpoint_callback=tf.keras.callbacks.ModelCheckpoint(\n",
    "    filepath=checkpoint_prefix,\n",
    "    save_weights_only=True)"
   ]
  },
  {
   "cell_type": "markdown",
   "metadata": {
    "id": "3Ky3F_BhgkTW"
   },
   "source": [
    "### 훈련 실행"
   ]
  },
  {
   "cell_type": "markdown",
   "metadata": {
    "id": "IxdOA-rgyGvs"
   },
   "source": [
    "훈련 시간이 너무 길지 않도록 모델을 훈련하는 데 10개의 에포크(Epoch)를 사용합니다. 코랩(Colab)에서는 런타임을 GPU로 설정하여 보다 빠르게 훈련할 수 있습니다."
   ]
  },
  {
   "cell_type": "code",
   "execution_count": 27,
   "metadata": {
    "execution": {
     "iopub.execute_input": "2020-09-23T07:32:15.462350Z",
     "iopub.status.busy": "2020-09-23T07:32:15.461723Z",
     "iopub.status.idle": "2020-09-23T07:32:15.463588Z",
     "shell.execute_reply": "2020-09-23T07:32:15.464027Z"
    },
    "id": "7yGBE2zxMMHs"
   },
   "outputs": [],
   "source": [
    "EPOCHS=100"
   ]
  },
  {
   "cell_type": "code",
   "execution_count": 72,
   "metadata": {
    "execution": {
     "iopub.execute_input": "2020-09-23T07:32:15.469740Z",
     "iopub.status.busy": "2020-09-23T07:32:15.469088Z",
     "iopub.status.idle": "2020-09-23T08:26:28.888020Z",
     "shell.execute_reply": "2020-09-23T08:26:28.888536Z"
    },
    "id": "UK-hmKjYVoll",
    "scrolled": true
   },
   "outputs": [
    {
     "name": "stdout",
     "output_type": "stream",
     "text": [
      "Epoch 1/100\n",
      "172/172 [==============================] - 4s 13ms/step - loss: 2.6335\n",
      "Epoch 2/100\n",
      "172/172 [==============================] - 3s 13ms/step - loss: 1.9136\n",
      "Epoch 3/100\n",
      "172/172 [==============================] - 3s 13ms/step - loss: 1.6618\n",
      "Epoch 4/100\n",
      "172/172 [==============================] - 4s 13ms/step - loss: 1.5292\n",
      "Epoch 5/100\n",
      "172/172 [==============================] - 3s 13ms/step - loss: 1.4466\n",
      "Epoch 6/100\n",
      "172/172 [==============================] - 3s 13ms/step - loss: 1.3900\n",
      "Epoch 7/100\n",
      "172/172 [==============================] - 3s 13ms/step - loss: 1.3466\n",
      "Epoch 8/100\n",
      "172/172 [==============================] - 3s 13ms/step - loss: 1.3090\n",
      "Epoch 9/100\n",
      "172/172 [==============================] - 3s 13ms/step - loss: 1.2764\n",
      "Epoch 10/100\n",
      "172/172 [==============================] - 3s 13ms/step - loss: 1.2451\n",
      "Epoch 11/100\n",
      "172/172 [==============================] - 3s 13ms/step - loss: 1.2149\n",
      "Epoch 12/100\n",
      "172/172 [==============================] - 3s 13ms/step - loss: 1.1841\n",
      "Epoch 13/100\n",
      "172/172 [==============================] - 3s 13ms/step - loss: 1.1533\n",
      "Epoch 14/100\n",
      "172/172 [==============================] - 3s 13ms/step - loss: 1.1198\n",
      "Epoch 15/100\n",
      "172/172 [==============================] - 3s 13ms/step - loss: 1.0870\n",
      "Epoch 16/100\n",
      "172/172 [==============================] - 3s 13ms/step - loss: 1.0524\n",
      "Epoch 17/100\n",
      "172/172 [==============================] - 4s 13ms/step - loss: 1.0159\n",
      "Epoch 18/100\n",
      "172/172 [==============================] - 3s 13ms/step - loss: 0.9800\n",
      "Epoch 19/100\n",
      "172/172 [==============================] - 3s 13ms/step - loss: 0.9430\n",
      "Epoch 20/100\n",
      "172/172 [==============================] - 3s 13ms/step - loss: 0.9059\n",
      "Epoch 21/100\n",
      "172/172 [==============================] - 3s 13ms/step - loss: 0.8698\n",
      "Epoch 22/100\n",
      "172/172 [==============================] - 3s 13ms/step - loss: 0.8334\n",
      "Epoch 23/100\n",
      "172/172 [==============================] - 3s 13ms/step - loss: 0.8004\n",
      "Epoch 24/100\n",
      "172/172 [==============================] - 3s 13ms/step - loss: 0.7692\n",
      "Epoch 25/100\n",
      "172/172 [==============================] - 3s 13ms/step - loss: 0.7366\n",
      "Epoch 26/100\n",
      "172/172 [==============================] - 3s 13ms/step - loss: 0.7093\n",
      "Epoch 27/100\n",
      "172/172 [==============================] - 3s 13ms/step - loss: 0.6849\n",
      "Epoch 28/100\n",
      "172/172 [==============================] - 3s 13ms/step - loss: 0.6592\n",
      "Epoch 29/100\n",
      "172/172 [==============================] - 3s 13ms/step - loss: 0.6364\n",
      "Epoch 30/100\n",
      "172/172 [==============================] - 3s 13ms/step - loss: 0.6176\n",
      "Epoch 31/100\n",
      "172/172 [==============================] - 3s 14ms/step - loss: 0.5996\n",
      "Epoch 32/100\n",
      "172/172 [==============================] - 3s 13ms/step - loss: 0.5806\n",
      "Epoch 33/100\n",
      "172/172 [==============================] - 3s 13ms/step - loss: 0.5662\n",
      "Epoch 34/100\n",
      "172/172 [==============================] - 3s 13ms/step - loss: 0.5518\n",
      "Epoch 35/100\n",
      "172/172 [==============================] - 3s 13ms/step - loss: 0.5400\n",
      "Epoch 36/100\n",
      "172/172 [==============================] - 3s 13ms/step - loss: 0.5280\n",
      "Epoch 37/100\n",
      "172/172 [==============================] - 3s 13ms/step - loss: 0.5173\n",
      "Epoch 38/100\n",
      "172/172 [==============================] - 3s 13ms/step - loss: 0.5055\n",
      "Epoch 39/100\n",
      "172/172 [==============================] - 3s 13ms/step - loss: 0.4980\n",
      "Epoch 40/100\n",
      "172/172 [==============================] - 3s 13ms/step - loss: 0.4897\n",
      "Epoch 41/100\n",
      "172/172 [==============================] - 3s 13ms/step - loss: 0.4811\n",
      "Epoch 42/100\n",
      "172/172 [==============================] - 3s 13ms/step - loss: 0.4743\n",
      "Epoch 43/100\n",
      "172/172 [==============================] - 3s 13ms/step - loss: 0.4697\n",
      "Epoch 44/100\n",
      "172/172 [==============================] - 3s 13ms/step - loss: 0.4631\n",
      "Epoch 45/100\n",
      "172/172 [==============================] - 3s 13ms/step - loss: 0.4582\n",
      "Epoch 46/100\n",
      "172/172 [==============================] - 3s 13ms/step - loss: 0.4545\n",
      "Epoch 47/100\n",
      "172/172 [==============================] - 3s 13ms/step - loss: 0.4484\n",
      "Epoch 48/100\n",
      "172/172 [==============================] - 3s 13ms/step - loss: 0.4437\n",
      "Epoch 49/100\n",
      "172/172 [==============================] - 3s 13ms/step - loss: 0.4403\n",
      "Epoch 50/100\n",
      "172/172 [==============================] - 3s 13ms/step - loss: 0.4358\n",
      "Epoch 51/100\n",
      "172/172 [==============================] - 3s 13ms/step - loss: 0.4320\n",
      "Epoch 52/100\n",
      "172/172 [==============================] - 3s 13ms/step - loss: 0.4295\n",
      "Epoch 53/100\n",
      "172/172 [==============================] - 3s 13ms/step - loss: 0.4289\n",
      "Epoch 54/100\n",
      "172/172 [==============================] - 3s 13ms/step - loss: 0.4252\n",
      "Epoch 55/100\n",
      "172/172 [==============================] - 3s 13ms/step - loss: 0.4223\n",
      "Epoch 56/100\n",
      "172/172 [==============================] - 3s 13ms/step - loss: 0.4202\n",
      "Epoch 57/100\n",
      "172/172 [==============================] - 3s 13ms/step - loss: 0.4180\n",
      "Epoch 58/100\n",
      "172/172 [==============================] - 3s 13ms/step - loss: 0.4168\n",
      "Epoch 59/100\n",
      "172/172 [==============================] - 3s 13ms/step - loss: 0.4129\n",
      "Epoch 60/100\n",
      "172/172 [==============================] - 3s 13ms/step - loss: 0.4100\n",
      "Epoch 61/100\n",
      "172/172 [==============================] - 3s 13ms/step - loss: 0.4092\n",
      "Epoch 62/100\n",
      "172/172 [==============================] - 3s 13ms/step - loss: 0.4060\n",
      "Epoch 63/100\n",
      "172/172 [==============================] - 3s 13ms/step - loss: 0.4056\n",
      "Epoch 64/100\n",
      "172/172 [==============================] - 3s 13ms/step - loss: 0.4036\n",
      "Epoch 65/100\n",
      "172/172 [==============================] - 4s 13ms/step - loss: 0.4028\n",
      "Epoch 66/100\n",
      "172/172 [==============================] - 3s 13ms/step - loss: 0.3999\n",
      "Epoch 67/100\n",
      "172/172 [==============================] - 3s 13ms/step - loss: 0.4005\n",
      "Epoch 68/100\n",
      "172/172 [==============================] - 3s 13ms/step - loss: 0.4008\n",
      "Epoch 69/100\n",
      "172/172 [==============================] - 3s 13ms/step - loss: 0.3992\n",
      "Epoch 70/100\n",
      "172/172 [==============================] - 3s 13ms/step - loss: 0.3960\n",
      "Epoch 71/100\n",
      "172/172 [==============================] - 3s 13ms/step - loss: 0.3958\n",
      "Epoch 72/100\n",
      "172/172 [==============================] - 3s 13ms/step - loss: 0.3955\n",
      "Epoch 73/100\n",
      "172/172 [==============================] - 3s 13ms/step - loss: 0.3949\n",
      "Epoch 74/100\n",
      "172/172 [==============================] - 3s 13ms/step - loss: 0.3920\n",
      "Epoch 75/100\n",
      "172/172 [==============================] - 3s 13ms/step - loss: 0.3944\n",
      "Epoch 76/100\n",
      "172/172 [==============================] - 3s 13ms/step - loss: 0.3910\n",
      "Epoch 77/100\n",
      "172/172 [==============================] - 3s 13ms/step - loss: 0.3890\n",
      "Epoch 78/100\n",
      "172/172 [==============================] - 3s 13ms/step - loss: 0.3898\n",
      "Epoch 79/100\n",
      "172/172 [==============================] - 3s 13ms/step - loss: 0.3877\n",
      "Epoch 80/100\n",
      "172/172 [==============================] - 3s 13ms/step - loss: 0.3865\n",
      "Epoch 81/100\n",
      "172/172 [==============================] - 3s 13ms/step - loss: 0.3874\n",
      "Epoch 82/100\n",
      "172/172 [==============================] - 3s 13ms/step - loss: 0.3855\n",
      "Epoch 83/100\n",
      "172/172 [==============================] - 3s 13ms/step - loss: 0.3841\n",
      "Epoch 84/100\n",
      "172/172 [==============================] - 3s 13ms/step - loss: 0.3850\n",
      "Epoch 85/100\n",
      "172/172 [==============================] - 3s 13ms/step - loss: 0.3853\n",
      "Epoch 86/100\n",
      "172/172 [==============================] - 3s 13ms/step - loss: 0.3850\n",
      "Epoch 87/100\n",
      "172/172 [==============================] - 3s 13ms/step - loss: 0.3809\n",
      "Epoch 88/100\n",
      "172/172 [==============================] - 3s 13ms/step - loss: 0.3801\n",
      "Epoch 89/100\n",
      "172/172 [==============================] - 3s 13ms/step - loss: 0.3845\n",
      "Epoch 90/100\n",
      "172/172 [==============================] - 3s 13ms/step - loss: 0.3834\n",
      "Epoch 91/100\n",
      "172/172 [==============================] - 3s 13ms/step - loss: 0.3822\n",
      "Epoch 92/100\n",
      "172/172 [==============================] - 3s 13ms/step - loss: 0.3810\n",
      "Epoch 93/100\n",
      "172/172 [==============================] - 4s 13ms/step - loss: 0.3817\n",
      "Epoch 94/100\n",
      "172/172 [==============================] - 4s 13ms/step - loss: 0.3808\n",
      "Epoch 95/100\n",
      "172/172 [==============================] - 3s 13ms/step - loss: 0.3805\n",
      "Epoch 96/100\n",
      "172/172 [==============================] - 3s 13ms/step - loss: 0.3836\n",
      "Epoch 97/100\n",
      "172/172 [==============================] - 3s 13ms/step - loss: 0.3821\n",
      "Epoch 98/100\n",
      "172/172 [==============================] - 3s 13ms/step - loss: 0.3800\n",
      "Epoch 99/100\n",
      "172/172 [==============================] - 3s 13ms/step - loss: 0.3763\n",
      "Epoch 100/100\n",
      "172/172 [==============================] - 3s 13ms/step - loss: 0.3759\n"
     ]
    }
   ],
   "source": [
    "history = model.fit(dataset, epochs=EPOCHS, callbacks=[checkpoint_callback])"
   ]
  },
  {
   "cell_type": "markdown",
   "metadata": {
    "id": "kKkD5M6eoSiN"
   },
   "source": [
    "## 텍스트 생성"
   ]
  },
  {
   "cell_type": "markdown",
   "metadata": {
    "id": "JIPcXllKjkdr"
   },
   "source": [
    "### 최근 체크포인트 복원"
   ]
  },
  {
   "cell_type": "markdown",
   "metadata": {
    "id": "LyeYRiuVjodY"
   },
   "source": [
    "이 예측 단계를 간단히 유지하기 위해 배치 크기로 1을 사용합니다.\n",
    "\n",
    "RNN 상태가 타임 스텝에서 타임 스텝으로 전달되는 방식이기 때문에 모델은 한 번 빌드된 고정 배치 크기만 허용합니다.\n",
    "\n",
    "다른 배치 크기로 모델을 실행하려면 모델을 다시 빌드하고 체크포인트에서 가중치를 복원해야 합니다."
   ]
  },
  {
   "cell_type": "code",
   "execution_count": 28,
   "metadata": {
    "execution": {
     "iopub.execute_input": "2020-09-23T08:26:28.893723Z",
     "iopub.status.busy": "2020-09-23T08:26:28.892819Z",
     "iopub.status.idle": "2020-09-23T08:26:28.897356Z",
     "shell.execute_reply": "2020-09-23T08:26:28.897777Z"
    },
    "id": "zk2WJ2-XjkGz"
   },
   "outputs": [
    {
     "data": {
      "text/plain": [
       "'./training_checkpoints/ckpt_100'"
      ]
     },
     "execution_count": 28,
     "metadata": {},
     "output_type": "execute_result"
    }
   ],
   "source": [
    "tf.train.latest_checkpoint(checkpoint_dir)"
   ]
  },
  {
   "cell_type": "code",
   "execution_count": 29,
   "metadata": {
    "execution": {
     "iopub.execute_input": "2020-09-23T08:26:28.906096Z",
     "iopub.status.busy": "2020-09-23T08:26:28.905461Z",
     "iopub.status.idle": "2020-09-23T08:26:29.196727Z",
     "shell.execute_reply": "2020-09-23T08:26:29.196126Z"
    },
    "id": "LycQ-ot_jjyu"
   },
   "outputs": [],
   "source": [
    "model = build_model(vocab_size, embedding_dim, rnn_units, batch_size=1)\n",
    "\n",
    "model.load_weights(tf.train.latest_checkpoint(checkpoint_dir))\n",
    "\n",
    "model.build(tf.TensorShape([1, None]))"
   ]
  },
  {
   "cell_type": "code",
   "execution_count": 30,
   "metadata": {
    "execution": {
     "iopub.execute_input": "2020-09-23T08:26:29.201728Z",
     "iopub.status.busy": "2020-09-23T08:26:29.201034Z",
     "iopub.status.idle": "2020-09-23T08:26:29.204891Z",
     "shell.execute_reply": "2020-09-23T08:26:29.204309Z"
    },
    "id": "71xa6jnYVrAN"
   },
   "outputs": [
    {
     "name": "stdout",
     "output_type": "stream",
     "text": [
      "Model: \"sequential_1\"\n",
      "_________________________________________________________________\n",
      "Layer (type)                 Output Shape              Param #   \n",
      "=================================================================\n",
      "embedding_1 (Embedding)      (1, None, 256)            16640     \n",
      "_________________________________________________________________\n",
      "lstm_1 (LSTM)                (1, None, 1024)           5246976   \n",
      "_________________________________________________________________\n",
      "dense_1 (Dense)              (1, None, 65)             66625     \n",
      "=================================================================\n",
      "Total params: 5,330,241\n",
      "Trainable params: 5,330,241\n",
      "Non-trainable params: 0\n",
      "_________________________________________________________________\n"
     ]
    }
   ],
   "source": [
    "model.summary()"
   ]
  },
  {
   "cell_type": "markdown",
   "metadata": {
    "id": "DjGz1tDkzf-u"
   },
   "source": [
    "### 예측 루프\n",
    "\n",
    "다음 코드 블록은 텍스트를 생성합니다:\n",
    "\n",
    "* 시작 문자열 선택과 순환 신경망 상태를 초기화하고 생성할 문자 수를 설정하면 시작됩니다.\n",
    "\n",
    "* 시작 문자열과 순환 신경망 상태를 사용하여 다음 문자의 예측 배열을 가져옵니다.\n",
    "\n",
    "* 다음, 범주형 배열을 사용하여 예측된 문자의 인덱스를 계산합니다. 이 예측된 문자를 모델의 다음 입력으로 활용합니다.\n",
    "\n",
    "* 모델에 의해 리턴된 RNN 상태는 모델로 피드백되어 이제는 하나의 단어가 아닌 더 많은 컨텍스트를 갖추게 됩니다. 다음 단어를 예측한 후 수정된 RNN 상태가 다시 모델로 피드백되어 이전에 예측된 단어에서 더 많은 컨텍스트를 얻으면서 학습하는 방식입니다.\n",
    "![텍스트를 생성하기 위해 모델의 출력이 입력으로 피드백](https://www.tensorflow.org/text/tutorials/images/text_generation_sampling.png)\n",
    "\n",
    "생성된 텍스트를 보면 모델이 언제 대문자로 나타나고, 절을 만들고 셰익스피어와 유사한 어휘를 가져오는지 알 수 있습니다. 훈련 에포크(Epoch)가 적은 관계로 논리적인 문장을 형성하는 것은 아직 훈련되지 않았습니다."
   ]
  },
  {
   "cell_type": "code",
   "execution_count": 31,
   "metadata": {
    "execution": {
     "iopub.execute_input": "2020-09-23T08:26:29.212016Z",
     "iopub.status.busy": "2020-09-23T08:26:29.211326Z",
     "iopub.status.idle": "2020-09-23T08:26:29.213756Z",
     "shell.execute_reply": "2020-09-23T08:26:29.213237Z"
    },
    "id": "WvuwZBX5Ogfd"
   },
   "outputs": [],
   "source": [
    "def generate_text(model, start_string):\n",
    "  # 평가 단계 (학습된 모델을 사용하여 텍스트 생성)\n",
    "\n",
    "  # 생성할 문자의 수\n",
    "  num_generate = 1000\n",
    "\n",
    "  # 시작 문자열을 숫자로 변환(벡터화)\n",
    "  input_eval = [char2idx[s] for s in start_string]\n",
    "  input_eval = tf.expand_dims(input_eval, 0)\n",
    "\n",
    "  # 결과를 저장할 빈 문자열\n",
    "  text_generated = []\n",
    "\n",
    "  # 온도가 낮으면 더 예측 가능한 텍스트가 됩니다.\n",
    "  # 온도가 높으면 더 의외의 텍스트가 됩니다.\n",
    "  # 최적의 세팅을 찾기 위한 실험\n",
    "  temperature = 1.0\n",
    "\n",
    "  # 여기에서 배치 크기 == 1\n",
    "  model.reset_states()\n",
    "  for i in range(num_generate):\n",
    "      predictions = model(input_eval)\n",
    "      # 배치 차원 제거\n",
    "      predictions = tf.squeeze(predictions, 0)\n",
    "\n",
    "      # 범주형 분포를 사용하여 모델에서 리턴한 단어 예측\n",
    "      predictions = predictions / temperature\n",
    "      predicted_id = tf.random.categorical(predictions, num_samples=1)[-1,0].numpy()\n",
    "\n",
    "      # 예측된 단어를 다음 입력으로 모델에 전달\n",
    "      # 이전 은닉 상태와 함께\n",
    "      input_eval = tf.expand_dims([predicted_id], 0)\n",
    "\n",
    "      text_generated.append(idx2char[predicted_id])\n",
    "\n",
    "  return (start_string + ''.join(text_generated))"
   ]
  },
  {
   "cell_type": "code",
   "execution_count": 32,
   "metadata": {
    "execution": {
     "iopub.execute_input": "2020-09-23T08:26:29.217630Z",
     "iopub.status.busy": "2020-09-23T08:26:29.217012Z",
     "iopub.status.idle": "2020-09-23T08:26:36.868525Z",
     "shell.execute_reply": "2020-09-23T08:26:36.868010Z"
    },
    "id": "ktovv0RFhrkn",
    "scrolled": true
   },
   "outputs": [
    {
     "name": "stdout",
     "output_type": "stream",
     "text": [
      "ROMEO: What?\n",
      "\n",
      "MERCUTIO:\n",
      "Ah, that she spoke, his friends to you how you see\n",
      "is!\n",
      "Three, ceased with sension wiel I wait by it for the more.\n",
      "\n",
      "PETRUCHIO:\n",
      "Will this, with some reputation.\n",
      "\n",
      "LUCIO:\n",
      "\n",
      "ISABELLA:\n",
      "Could great men thus made pause a barren of this friar:\n",
      "tell him of this flowering tyranny;\n",
      "Cannot be quiet bring me well: poor Milan! a dove-bound,\n",
      "I may stan in their unfult friendly doubt;\n",
      "The words whose late move Clarence claim to jest,\n",
      "And thou must know it, would the world aloud\n",
      "What most have taken your part,--\n",
      "Sirn, our common men\n",
      "And in true blushes reasons 'longs' to w; I am undone! while I power\n",
      "Propould tes my request he in:\n",
      "Let me commend my watch be patient.\n",
      "\n",
      "BRUTUS:\n",
      "Be confined my mistress' charge he did lovely,\n",
      "And you will hang each other but Longeo.\n",
      "\n",
      "ISABELLA:\n",
      "I would to her good fetch hold from vengeance saying, thou camest first.\n",
      "\n",
      "GONZALO:\n",
      "I as churn, sir, that you hands afflict you.\n",
      "\n",
      "PETRUCHIO:\n",
      "I saw she stays upon me, whose pernsider gost\n",
      "Makes follows you a forthior marr\n"
     ]
    }
   ],
   "source": [
    "print(generate_text(model, start_string=u\"ROMEO: \"))"
   ]
  },
  {
   "cell_type": "markdown",
   "metadata": {
    "id": "AM2Uma_-yVIq"
   },
   "source": [
    "결과를 개선하는 가장 쉬운 방법은 더 오래 훈련하는 것입니다(`EPOCHS = 30`을 시도해 봅시다).\n",
    "\n",
    "또한 다른 시작 문자열을 시험해 보거나 모델의 정확도를 높이기 위해 다른 RNN 레이어를 추가하거나 온도 파라미터를 조정하여 많은 혹은 적은 임의의 예측을 생성할 수 있습니다."
   ]
  }
 ],
 "metadata": {
  "accelerator": "GPU",
  "colab": {
   "collapsed_sections": [],
   "name": "text_generation.ipynb",
   "toc_visible": true
  },
  "kernelspec": {
   "display_name": "Python 3 (ipykernel)",
   "language": "python",
   "name": "python3"
  },
  "language_info": {
   "codemirror_mode": {
    "name": "ipython",
    "version": 3
   },
   "file_extension": ".py",
   "mimetype": "text/x-python",
   "name": "python",
   "nbconvert_exporter": "python",
   "pygments_lexer": "ipython3",
   "version": "3.8.8"
  }
 },
 "nbformat": 4,
 "nbformat_minor": 1
}
