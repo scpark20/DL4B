{
 "cells": [
  {
   "cell_type": "code",
   "execution_count": 4,
   "metadata": {},
   "outputs": [],
   "source": [
    "import numpy as np"
   ]
  },
  {
   "cell_type": "markdown",
   "metadata": {},
   "source": [
    "### Layer Abstract Class"
   ]
  },
  {
   "cell_type": "code",
   "execution_count": 5,
   "metadata": {},
   "outputs": [],
   "source": [
    "class Layer():\n",
    "    def forward(self, x):\n",
    "        raise NotImplementedError()\n",
    "        \n",
    "    def backward(self, accum_grad, learning_rate):\n",
    "        raise NotImplementedError()       "
   ]
  },
  {
   "cell_type": "markdown",
   "metadata": {},
   "source": [
    "### Dense Layer"
   ]
  },
  {
   "cell_type": "code",
   "execution_count": 6,
   "metadata": {},
   "outputs": [],
   "source": [
    "import math\n",
    "\n",
    "class Dense(Layer):\n",
    "    def __init__(self, input_dim, output_dim):\n",
    "        # Reference : https://keras.io/api/layers/initializers/\n",
    "        limit = np.sqrt(6/(input_dim+output_dim))\n",
    "        self.W = np.random.uniform(-limit, limit, size=(input_dim, output_dim))\n",
    "        self.b = np.zeros(output_dim)\n",
    "        self.x_save = None # saving input x in forward step for using in backward step\n",
    "        \n",
    "    def forward(self, x):\n",
    "        # x : (batch, input_dim)\n",
    "        self.x_save = x\n",
    "        \n",
    "        # Dense layer를 수식으로 표현하면 다음과 같습니다.\n",
    "        # y = x@W + b\n",
    "        \n",
    "        # Linear Transform : (batch, output_dim)\n",
    "        y = x @ self.W + self.b\n",
    "        \n",
    "        return y\n",
    "        \n",
    "    def backward(self, accum_grad, learning_rate):\n",
    "        # accum_grad : ∂L/∂y, (batch, output_dim)\n",
    "        \n",
    "        # y를 W에 대해 미분하면 다음과 같이 되고,\n",
    "        # ∂y/∂W = x\n",
    "        \n",
    "        # Loss를 W에 대해 미분하면 chain rule에 의해 다음과 같이 표현됩니다.\n",
    "        # ∂L/∂W = ∂L/∂y·∂y/∂W = ∂L/∂y·x\n",
    "        \n",
    "        # (input_dim, output_dim)\n",
    "        W_grad = self.x_save.T @ accum_grad\n",
    "        \n",
    "        # 또한 y를 b에 대해 미분하면 다음과 같이 되고,\n",
    "        # ∂y/∂b = 1\n",
    "        \n",
    "        # Loss를 b에 대해 미분하면 chain rule에 의해 다음과 같이 표현됩니다.\n",
    "        # ∂L/∂b = ∂L/∂y·∂y/∂b = ∂L/∂y·1\n",
    "        b_grad = np.sum(accum_grad, axis=0)\n",
    "        \n",
    "        # Loss를 x에 대해 미분하면 chain rule에 의해 다음과 같이 표현됩니다.\n",
    "        # ∂L/∂x = ∂L/∂y·∂y/∂x\n",
    "        # y를 x에 대해 미분하면 다음과 같이 됩니다.\n",
    "        # ∂y/∂x = W\n",
    "        accum_grad = accum_grad @ self.W.T\n",
    "\n",
    "        # Weight&bias 업데이트\n",
    "        self.W = self.W - learning_rate * W_grad\n",
    "        self.b = self.b - learning_rate * b_grad\n",
    "        \n",
    "        return accum_grad\n",
    "            "
   ]
  },
  {
   "cell_type": "markdown",
   "metadata": {},
   "source": [
    "### Activations"
   ]
  },
  {
   "cell_type": "code",
   "execution_count": 7,
   "metadata": {},
   "outputs": [],
   "source": [
    "# Reference : https://github.com/eriklindernoren/ML-From-Scratch/blob/master/mlfromscratch/deep_learning/activation_functions.py\n",
    "class Sigmoid(Layer):\n",
    "    def forward(self, x):\n",
    "        self.x_save = x\n",
    "        return 1 / (1 + np.exp(-x))\n",
    "    \n",
    "    def backward(self, accum_grad, learning_rate):\n",
    "        grad = self.forward(self.x_save) * (1 - self.forward(self.x_save))\n",
    "        return accum_grad * grad\n",
    "\n",
    "class ReLU(Layer):\n",
    "    def forward(self, x):\n",
    "        self.x_save = x\n",
    "        return np.where(x>0, x, 0)\n",
    "    \n",
    "    def backward(self, accum_grad, learning_rate):\n",
    "        grad = np.where(self.x_save>0, 1, 0)\n",
    "        return accum_grad * grad\n",
    "    \n",
    "class Tanh(Layer):\n",
    "    def forward(self, x):\n",
    "        self.x_save = x\n",
    "        return 2 / (1 + np.exp(-2*x)) - 1\n",
    "    \n",
    "    def backward(self, accum_grad, learning_rate):\n",
    "        grad = 1 - np.power(self.forward(self.x_save), 2)\n",
    "        return accum_grad * grad\n",
    "        "
   ]
  },
  {
   "cell_type": "markdown",
   "metadata": {},
   "source": [
    "### Sequential Layer"
   ]
  },
  {
   "cell_type": "code",
   "execution_count": 8,
   "metadata": {},
   "outputs": [],
   "source": [
    "class Sequential(Layer):\n",
    "    def __init__(self, layers):\n",
    "        self.layers = layers\n",
    "        \n",
    "    def forward(self, x):\n",
    "        # x : (batch, input_dim)\n",
    "        \n",
    "        for layer in self.layers:\n",
    "            x = layer.forward(x)\n",
    "            \n",
    "        return x\n",
    "    \n",
    "    def backward(self, accum_grad, learning_rate):\n",
    "        \n",
    "        for layer in reversed(self.layers):\n",
    "            accum_grad = layer.backward(accum_grad, learning_rate)\n",
    "            \n",
    "        return accum_grad"
   ]
  },
  {
   "cell_type": "markdown",
   "metadata": {},
   "source": [
    "### Losses"
   ]
  },
  {
   "cell_type": "code",
   "execution_count": 9,
   "metadata": {},
   "outputs": [],
   "source": [
    "class MeanSquareError():\n",
    "    @staticmethod\n",
    "    def get_loss(y_pred, y_true):\n",
    "        # y_pred : (batch, dim)\n",
    "        # y_true : (batch, dim)\n",
    "        \n",
    "        # scalar\n",
    "        loss = 0.5 * np.mean((y_pred - y_true) ** 2)\n",
    "        \n",
    "        return loss\n",
    "    \n",
    "    @staticmethod\n",
    "    def get_gradient(y_pred, y_true):\n",
    "        grad = -y_true + y_pred\n",
    "        \n",
    "        return grad\n",
    "    \n",
    "from scipy.special import softmax\n",
    "class SparseCrossEntropy():\n",
    "    # Reference : https://towardsdatascience.com/derivative-of-the-softmax-function-and-the-categorical-cross-entropy-loss-ffceefc081d1\n",
    "    @staticmethod\n",
    "    def get_loss(y_pred, y_true):\n",
    "        # y_pred : (batch, dim)\n",
    "        # y_true : (batch,)\n",
    "        \n",
    "        eps = np.finfo(float).eps\n",
    "        log_p = np.log(softmax(y_pred, axis=1) + eps)\n",
    "        \n",
    "        negative_log_likelihoods = []\n",
    "        for i, target in enumerate(y_true):\n",
    "            nll = -log_p[i, target]\n",
    "            negative_log_likelihoods.append(nll)\n",
    "            \n",
    "        loss = np.mean(negative_log_likelihoods)\n",
    "        \n",
    "        return loss\n",
    "    \n",
    "    @staticmethod\n",
    "    def get_gradient(y_pred, y_true):\n",
    "        # y_pred : (batch, dim)\n",
    "        # y_true : (batch,)\n",
    "        \n",
    "        y_true = np.eye(y_pred.shape[1])[y_true]\n",
    "        grad = softmax(y_pred, axis=1) - y_true\n",
    "        return grad\n",
    "    "
   ]
  },
  {
   "cell_type": "markdown",
   "metadata": {},
   "source": [
    "### Data preparation"
   ]
  },
  {
   "cell_type": "code",
   "execution_count": 10,
   "metadata": {},
   "outputs": [],
   "source": [
    "import tensorflow as tf\n",
    "from tensorflow import keras"
   ]
  },
  {
   "cell_type": "code",
   "execution_count": 11,
   "metadata": {},
   "outputs": [
    {
     "name": "stdout",
     "output_type": "stream",
     "text": [
      "(60000, 28, 28) (60000,)\n",
      "(10000, 28, 28) (10000,)\n"
     ]
    }
   ],
   "source": [
    "mnist = keras.datasets.fashion_mnist\n",
    "(train_images, train_labels), (test_images, test_labels) = mnist.load_data()\n",
    "\n",
    "train_images = train_images / 255.0\n",
    "test_images = test_images / 255.0\n",
    "\n",
    "print(train_images.shape, train_labels.shape)\n",
    "print(test_images.shape, test_labels.shape)"
   ]
  },
  {
   "cell_type": "markdown",
   "metadata": {},
   "source": [
    "### Model Initialiation"
   ]
  },
  {
   "cell_type": "code",
   "execution_count": 12,
   "metadata": {},
   "outputs": [
    {
     "name": "stdout",
     "output_type": "stream",
     "text": [
      "<__main__.Sequential object at 0x7fd25deea400>\n"
     ]
    }
   ],
   "source": [
    "model = Sequential([Dense(784, 128),\n",
    "                    Tanh(),\n",
    "                    Dense(128, 10),\n",
    "                   ])\n",
    "print(model)"
   ]
  },
  {
   "cell_type": "markdown",
   "metadata": {},
   "source": [
    "### Train"
   ]
  },
  {
   "cell_type": "code",
   "execution_count": 13,
   "metadata": {
    "scrolled": true
   },
   "outputs": [
    {
     "name": "stdout",
     "output_type": "stream",
     "text": [
      "epoch : 0 loss : 0.4405563210393697\n",
      "epoch : 1 loss : 0.3888882906577442\n",
      "epoch : 2 loss : 0.3605730028588443\n",
      "epoch : 3 loss : 0.34134970296160905\n",
      "epoch : 4 loss : 0.32649958723759664\n",
      "epoch : 5 loss : 0.31426919184355184\n",
      "epoch : 6 loss : 0.30409491302369196\n",
      "epoch : 7 loss : 0.2955786065499654\n",
      "epoch : 8 loss : 0.2883385689324542\n",
      "epoch : 9 loss : 0.2820520526266699\n"
     ]
    }
   ],
   "source": [
    "batch_size = 32\n",
    "\n",
    "losses = []\n",
    "for epoch in range(10):\n",
    "    batch_start_index = 0\n",
    "    \n",
    "    running_loss = None\n",
    "    while batch_start_index < len(train_images)-1:\n",
    "        # prepare batch data\n",
    "        batch_end_index = batch_start_index + batch_size\n",
    "        x = train_images[batch_start_index:batch_end_index]\n",
    "        # (batch, 784)\n",
    "        x = x.reshape(len(x), -1)\n",
    "        # (60000) -> (32)\n",
    "        t = train_labels[batch_start_index:batch_end_index]\n",
    "\n",
    "        # forward pass\n",
    "        y = model.forward(x)\n",
    "        loss = SparseCrossEntropy.get_loss(y, t)\n",
    "        losses.append(loss)\n",
    "        running_loss = loss if running_loss is None else running_loss*0.9 + loss*0.1\n",
    "        \n",
    "        # backward pass\n",
    "        grad = SparseCrossEntropy.get_gradient(y, t)\n",
    "        model.backward(grad, learning_rate=1e-3)\n",
    "        #optimizer.step()\n",
    "        \n",
    "        batch_start_index = batch_end_index\n",
    "\n",
    "    print('epoch :', epoch, 'loss :', running_loss)\n"
   ]
  },
  {
   "cell_type": "code",
   "execution_count": 14,
   "metadata": {
    "scrolled": false
   },
   "outputs": [
    {
     "data": {
      "image/png": "[encoded data removed]",
      "text/plain": [
       "<Figure size 1296x216 with 2 Axes>"
      ]
     },
     "metadata": {
      "needs_background": "light"
     },
     "output_type": "display_data"
    },
    {
     "data": {
      "image/png": "[encoded data removed]",
      "text/plain": [
       "<Figure size 1296x216 with 2 Axes>"
      ]
     },
     "metadata": {
      "needs_background": "light"
     },
     "output_type": "display_data"
    },
    {
     "data": {
      "image/png": "[encoded data removed]",
      "text/plain": [
       "<Figure size 1296x216 with 2 Axes>"
      ]
     },
     "metadata": {
      "needs_background": "light"
     },
     "output_type": "display_data"
    },
    {
     "data": {
      "image/png": "[encoded data removed]",
      "text/plain": [
       "<Figure size 1296x216 with 2 Axes>"
      ]
     },
     "metadata": {
      "needs_background": "light"
     },
     "output_type": "display_data"
    },
    {
     "data": {
      "image/png": "[encoded data removed]",
      "text/plain": [
       "<Figure size 1296x216 with 2 Axes>"
      ]
     },
     "metadata": {
      "needs_background": "light"
     },
     "output_type": "display_data"
    }
   ],
   "source": [
    "import matplotlib.pyplot as plt\n",
    "\n",
    "class_names = ['T-shirt/top', 'Trouser', 'Pullover', 'Dress', 'Coat',\n",
    "               'Sandal', 'Shirt', 'Sneaker', 'Bag', 'Ankle boot']\n",
    "\n",
    "pred = model.forward(test_images.reshape(-1, 784))\n",
    "pred = softmax(pred, axis=1)\n",
    "\n",
    "for index in range(5):\n",
    "    plt.figure(figsize=[18, 3])\n",
    "    plt.subplot(1, 2, 1)\n",
    "    plt.title(class_names[pred[index].argmax()])\n",
    "    plt.imshow(test_images[index], cmap=plt.cm.binary)\n",
    "    plt.subplot(1, 2, 2)\n",
    "    plt.bar(range(10), pred[index])\n",
    "    plt.xticks(range(10), class_names)\n",
    "    plt.show()"
   ]
  },
  {
   "cell_type": "code",
   "execution_count": 15,
   "metadata": {},
   "outputs": [
    {
     "name": "stdout",
     "output_type": "stream",
     "text": [
      "accuracy : 0.869\n"
     ]
    }
   ],
   "source": [
    "accuracy = (np.argmax(pred, axis=1) == test_labels).sum() / len(test_labels)\n",
    "print('accuracy :', accuracy)"
   ]
  },
  {
   "cell_type": "code",
   "execution_count": null,
   "metadata": {},
   "outputs": [],
   "source": []
  },
  {
   "cell_type": "code",
   "execution_count": null,
   "metadata": {},
   "outputs": [],
   "source": []
  }
 ],
 "metadata": {
  "kernelspec": {
   "display_name": "Python 3 (ipykernel)",
   "language": "python",
   "name": "python3"
  },
  "language_info": {
   "codemirror_mode": {
    "name": "ipython",
    "version": 3
   },
   "file_extension": ".py",
   "mimetype": "text/x-python",
   "name": "python",
   "nbconvert_exporter": "python",
   "pygments_lexer": "ipython3",
   "version": "3.8.8"
  }
 },
 "nbformat": 4,
 "nbformat_minor": 4
}
